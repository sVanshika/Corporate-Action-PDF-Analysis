{
 "cells": [
  {
   "cell_type": "code",
   "execution_count": 187,
   "metadata": {},
   "outputs": [],
   "source": [
    "from bs4 import BeautifulSoup\n",
    "from urllib.request import urlopen\n",
    "import requests\n",
    "import pandas as pd"
   ]
  },
  {
   "cell_type": "code",
   "execution_count": 214,
   "metadata": {},
   "outputs": [],
   "source": [
    "def get_links(link):\n",
    "    url = requests.get(link).text\n",
    "    soup = BeautifulSoup(url,'lxml')\n",
    "    temp2=soup.find_all('a', {'title':'See More'})\n",
    "    temp2[1].get('href')\n",
    "    link2=temp2[1].get('href')\n",
    "    url = requests.get(link2).text\n",
    "    soup = BeautifulSoup(url,'lxml')\n",
    "    temp2=soup.find_all('table')\n",
    "    x=temp2[1].find_all('a')\n",
    "    ca_list=[]\n",
    "    for i in x:\n",
    "        temp=i.get('href')\n",
    "        if \"company-facts\" in temp:\n",
    "            ca_list.append(temp)\n",
    "    ca_list_final=[]\n",
    "    for i in ca_list:\n",
    "        ca_list_final.append(\"https://www.moneycontrol.com\"+i)\n",
    "    return ca_list_final"
   ]
  },
  {
   "cell_type": "code",
   "execution_count": 215,
   "metadata": {},
   "outputs": [],
   "source": [
    "#enter the link of the company\n",
    "link='https://www.moneycontrol.com//india/stockpricequote/computershardware/tvselectronics/TVS02'\n",
    "x=get_links(link)"
   ]
  },
  {
   "cell_type": "code",
   "execution_count": 216,
   "metadata": {},
   "outputs": [
    {
     "name": "stdout",
     "output_type": "stream",
     "text": [
      "board meeting :- https://www.moneycontrol.com/company-facts/tvselectronics/board-meetings/TVS02#TVS02\n",
      "AGM-EGM :- https://www.moneycontrol.com/company-facts/tvselectronics/agm-egm/TVS02#TVS02\n",
      "Bonus :- https://www.moneycontrol.com/company-facts/tvselectronics/bonus/TVS02#TVS02\n",
      "Rights :- https://www.moneycontrol.com/company-facts/tvselectronics/rights/TVS02#TVS02\n",
      "Splits :- https://www.moneycontrol.com/company-facts/tvselectronics/splits/TVS02#TVS02\n",
      "Dividend :- https://www.moneycontrol.com/company-facts/tvselectronics/dividends/TVS02#TVS02\n"
     ]
    }
   ],
   "source": [
    "#board meeting\n",
    "print(\"board meeting :- \"+x[0])\n",
    "#agm-egm\n",
    "print(\"AGM-EGM :- \"+x[1])\n",
    "#bonus\n",
    "print(\"Bonus :- \"+x[2])\n",
    "#rights\n",
    "print(\"Rights :- \"+x[3])\n",
    "#splits\n",
    "print(\"Splits :- \"+x[4])\n",
    "#dividend\n",
    "print(\"Dividend :- \"+x[5])"
   ]
  },
  {
   "cell_type": "code",
   "execution_count": null,
   "metadata": {},
   "outputs": [],
   "source": []
  }
 ],
 "metadata": {
  "kernelspec": {
   "display_name": "Python 3",
   "language": "python",
   "name": "python3"
  },
  "language_info": {
   "codemirror_mode": {
    "name": "ipython",
    "version": 3
   },
   "file_extension": ".py",
   "mimetype": "text/x-python",
   "name": "python",
   "nbconvert_exporter": "python",
   "pygments_lexer": "ipython3",
   "version": "3.9.1"
  }
 },
 "nbformat": 4,
 "nbformat_minor": 4
}
